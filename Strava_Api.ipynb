{
 "cells": [
  {
   "cell_type": "code",
   "execution_count": 3,
   "metadata": {},
   "outputs": [
    {
     "name": "stdout",
     "output_type": "stream",
     "text": [
      "Requesting Token...\n",
      "\n",
      "Access Token = 8f5c4758d3a42e2f9e7efaf6e0b98306943157ee\n",
      "\n",
      "Grandmas marathon \n",
      "cc{}GntxnPlGrIt[vd@jHhJ`Wp^bM~PpVxXtCvCpChDrDvDtClDlCjCpTfVp@`AlAjCxClH~FxL~M|ZjApBdBvB|B~BfDlBpMvEjX~K|CrBhCtCfBjCbWjb@|IrOpLbRfTz^lFtGzClEdJjLnJ`N`@z@rCvEfA|Bj@|Bp@|Fb@zAf@fAT^hAr@dCp@bAh@`AlA`EtKl@lBlAjCvBlG`DbIzD|KjAlCvGjMnBfD|@jBfA`BfA|BnDbGnBxDxErH~BfD`B~CnAjDVhAr@vD^`FB|BQrJB|@MnB?xEGzCLnLGrPHnLClAJpECdFR~C^zDx@|EtAhKlB`PbCrObAlF^nCPtB`ErTbAlG`AzCdB`DnAdBbCxB~AbAhElAlDLhEC~C\\lC~@`GzCfHxDpA~@rAjAjArAfBxCrApClErKvHnNd@fAp@zBhDjPlBlK\\xCTjIJdOVtFbBzNbC`QrA~FbFhMtF|NdInTlChF`AnA|E~EzBnCrBlD`CbF~EhJtGhIfJ`S~C|FnDrHtGbLjG|IrDrElGrGxIrHfCjC~CdExDvGpAbDdBhFrCdHhBxFdBrKj@xBj@zAZdBP`K^jCZbAv@jBlEbInAtChJvQ|DlIhBnDlE|GVl@d@xAZrBn@bI|@hE~@|ChAlCpGxK|AnDh@jBzHt\\tFnOxBpFhCrEtBvCnIpN`GbLdEhJp@|@vClFtHxLzCjElAbC~ApF|@fEfAjEtAjHjAtGr@rFz@lFfAtDhA~BtGvJ~FtOvBdFpDxJl@lA|AlErE|HjD`H~GpK|E|HjE~H|CjEVl@nAlBjDdDXd@l@fB`DlF`AtA|GvFdApAnAnBlAtC|ArErAhG^dAlAjH`@fDLbJpAhFTbBjBbJrCrO|AdGz@`GtAtH~AvDZb@|ChI~BpE`@f@|AhDjCpEbAdChEpH|E|EpF`GnDnEVf@bBnBxE~Ld@hBv@hBrAfEt@zAdA|C\\lDYfITnDKlDDZArHVbELf@tArBvAbBdAtBnDzEZl@vAhBZt@pAdBn@n@V`AtAdBN^fBtBf@dAl@d@Xf@pArAfB`Dj@f@fAhBfA|AbDxDjA`ClB`C^v@j@r@Np@j@d@L\\XZTr@`A|An@^l@r@Xv@z@nA~BhBp@xA?Xv@d@J`@Ap@DPu@\\j@Wf@ZrBjC~AdCfAdAr@lAvAtC`BtElGtN~ArEz@dBjCxGdHvOfAxCxHfQnCdHxA|CRp@`CnFnAfCBVjCfG@v@Mp@_ArBIh@FRdFxGd@x@|BzChDrFfAtAbBnD^f@vAfA\n"
     ]
    }
   ],
   "source": [
    "import requests\n",
    "import urllib3\n",
    "urllib3.disable_warnings(urllib3.exceptions.InsecureRequestWarning)\n",
    "\n",
    "### Personal Notes ###\n",
    "\n",
    "#code here is copied from https://github.com/franchyze923/Code_From_Tutorials/blob/master/Strava_Api/strava_api.py\n",
    "#im using this code as a starting point to get my data and learn about API's\n",
    "\n",
    "### End Notes ###\n",
    "\n",
    "auth_url = \"https://www.strava.com/oauth/token\"\n",
    "activites_url = \"https://www.strava.com/api/v3/athlete/activities\"\n",
    "\n",
    "payload = {\n",
    "    'client_id': \"109422\",\n",
    "    'client_secret': '578273ee1376f7b77082e6c89b91040adb092f2f',\n",
    "    'refresh_token': '918b3db21b495d1aaddeb81147d444d8718a5c23',\n",
    "    'grant_type': \"refresh_token\",\n",
    "    'f': 'json'\n",
    "}\n",
    "\n",
    "print(\"Requesting Token...\\n\")\n",
    "res = requests.post(auth_url, data=payload, verify=False)\n",
    "access_token = res.json()['access_token']\n",
    "print(\"Access Token = {}\\n\".format(access_token))\n",
    "\n",
    "header = {'Authorization': 'Bearer ' + access_token}\n",
    "param = {'per_page': 200, 'page': 1}\n",
    "my_dataset = requests.get(activites_url, headers=header, params=param).json()\n",
    "\n",
    "print(my_dataset[0][\"name\"])\n",
    "print(my_dataset[0][\"map\"][\"summary_polyline\"])"
   ]
  },
  {
   "cell_type": "code",
   "execution_count": 13,
   "metadata": {},
   "outputs": [
    {
     "name": "stdout",
     "output_type": "stream",
     "text": [
      "Grandmas marathon \n",
      "42487.6\n",
      "20\n",
      "4.313\n",
      "13382\n"
     ]
    }
   ],
   "source": [
    "print(my_dataset[0][\"name\"])\n",
    "print(my_dataset[0][\"distance\"])\n",
    "print(my_dataset[0][\"kudos_count\"])\n",
    "print(my_dataset[0][\"max_speed\"])\n",
    "print(my_dataset[0][\"elapsed_time\"])"
   ]
  },
  {
   "cell_type": "code",
   "execution_count": 17,
   "metadata": {},
   "outputs": [
    {
     "name": "stdout",
     "output_type": "stream",
     "text": [
      "done?\n"
     ]
    }
   ],
   "source": [
    "#import json\n",
    "\n",
    "#with open (\"Demo_Data.txt\", \"w\") as fp:\n",
    "    \n",
    "#    json.dump(my_dataset, fp)\n",
    "\n",
    "#print (\"done?\")"
   ]
  }
 ],
 "metadata": {
  "kernelspec": {
   "display_name": "Python 3",
   "language": "python",
   "name": "python3"
  },
  "language_info": {
   "codemirror_mode": {
    "name": "ipython",
    "version": 3
   },
   "file_extension": ".py",
   "mimetype": "text/x-python",
   "name": "python",
   "nbconvert_exporter": "python",
   "pygments_lexer": "ipython3",
   "version": "3.10.9"
  },
  "orig_nbformat": 4
 },
 "nbformat": 4,
 "nbformat_minor": 2
}

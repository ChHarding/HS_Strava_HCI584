{
 "cells": [
  {
   "cell_type": "code",
   "execution_count": 2,
   "metadata": {},
   "outputs": [
    {
     "name": "stdout",
     "output_type": "stream",
     "text": [
      "you entered: 578273ee1376f7b77082e6c89b91040adb092f2f\n",
      "Requesting Token...\n",
      "\n",
      "Access Token = aa3356e6edfe5ae7d4bb53e8890c6e83408a2679\n",
      "\n",
      "Evening Ride\n",
      "uyd}FnbpmPf@c@^e@B?JHZj@jBdDPf@Hp@BBPBtDDpB?vCG^CXGlABxEAp@HfTHNOFoANKfCCNOBcCEcASaCOkC@}BDIvAAHD@DDl@HZZ@j@IfAC^GNO`@{@h@]DKBKB]CoADIJG`CHhHBrCLzB@`BEbB@bBHn@JXAb@MVQPSJUB_@YyGAsBTsAXm@V_@lD_Dt@g@RGVCvCLbACrAB|@Jn@NzANz@SdAi@`Cy@~A[p@SxBiATCVBNN?t@FX~@hAf@vATxAFbBTv@rAjBh@FHHHb@FnA@~@EpAObAMt@yA~DSdAK^u@pBQ|@k@lB[`BYhCOfCITGFGDS@_B?[JaD@aCDe@XSBsLEG@WRCFAb@@bGKvSQjDEh@]xBs@tCcAfCiIlOy@tBe@lBSnBG|BJ~BZtB|@zDJRRC^Ff@j@TNNDp@@HGNm@DEZQ~@MVMJQJYHu@L[NQfAe@LOl@aAROr@Ux@E^Sn@s@TKv@KjA_AJE`AOvA]j@[^c@d@_@|AQhBgAn@c@VGT?VHRLRTl@hAd@r@LTF^BvANvAH|Ba@nIAnBRlC@jBLpBb@`DH`AE`@WxAM|BI\\]r@o@l@mAh@gAH_DDcAQiBo@cAWm@A[BQ?aE{@aHy@kBa@gAq@wBoBiAw@QBIFEJi@hFKRWFq@QmBs@gBi@_@Ii@DWEa@Sc@]SCSBc@RS@{@?gAD{A\\kBr@yA`@iCj@{@VSJ[Z]VIBUF}B?c@BiAZkBx@s@\\SXq@pAy@tAs@v@gAdAiArAyA`Ba@~@Yf@}BrBWHoG\\qAIoBc@yBw@}CeBgAe@aBe@wDs@g@SMQ]kAC[?[PmBFyBHwANiBBgAFaAXqAXkB\\o@BW@i@Re@DUbA_Gx@gEBk@XcBFWz@oCrAmGLo@Z_D_Rwz@kC@\n"
     ]
    }
   ],
   "source": [
    "import requests\n",
    "import urllib3\n",
    "urllib3.disable_warnings(urllib3.exceptions.InsecureRequestWarning)\n",
    "\n",
    "### Personal Notes ###\n",
    "\n",
    "#code here is copied from https://github.com/franchyze923/Code_From_Tutorials/blob/master/Strava_Api/strava_api.py\n",
    "#im using this code as a starting point to get my data and learn about API's\n",
    "\n",
    "### End Notes ###\n",
    "\n",
    "print(\"Please enter your client id:\")\n",
    "id = input()\n",
    "\n",
    "print(\"Please enter your refresh token:\")\n",
    "refresh = input()\n",
    "\n",
    "print(\"Please enter your client secret:\")\n",
    "secret = input()\n",
    "\n",
    "auth_url = \"https://www.strava.com/oauth/token\"\n",
    "activites_url = \"https://www.strava.com/api/v3/athlete/activities\"\n",
    "\n",
    "payload = {\n",
    "    'client_id': id,\n",
    "    'client_secret': secret,\n",
    "    'refresh_token': refresh,\n",
    "    'grant_type': \"refresh_token\",\n",
    "    'f': 'json'\n",
    "}\n",
    "\n",
    "print(\"Requesting Token...\\n\")\n",
    "res = requests.post(auth_url, data=payload, verify=False)\n",
    "access_token = res.json()['access_token']\n",
    "print(\"Access Token = {}\\n\".format(access_token))\n",
    "\n",
    "header = {'Authorization': 'Bearer ' + access_token}\n",
    "param = {'per_page': 200, 'page': 1}\n",
    "my_dataset = requests.get(activites_url, headers=header, params=param).json()\n",
    "\n",
    "print(my_dataset[0][\"name\"])\n",
    "print(my_dataset[0][\"map\"][\"summary_polyline\"])"
   ]
  },
  {
   "cell_type": "code",
   "execution_count": 3,
   "metadata": {},
   "outputs": [
    {
     "name": "stdout",
     "output_type": "stream",
     "text": [
      "Grandmas marathon \n",
      "42487.6\n",
      "21\n",
      "4.313\n",
      "13382\n"
     ]
    }
   ],
   "source": [
    "print(my_dataset[0][\"name\"])\n",
    "print(my_dataset[0][\"distance\"])\n",
    "print(my_dataset[0][\"kudos_count\"])\n",
    "print(my_dataset[0][\"max_speed\"])\n",
    "print(my_dataset[0][\"elapsed_time\"])"
   ]
  },
  {
   "cell_type": "code",
   "execution_count": 17,
   "metadata": {},
   "outputs": [
    {
     "name": "stdout",
     "output_type": "stream",
     "text": [
      "done?\n"
     ]
    }
   ],
   "source": [
    "#import json\n",
    "\n",
    "#with open (\"Demo_Data.txt\", \"w\") as fp:\n",
    "    \n",
    "#    json.dump(my_dataset, fp)\n",
    "\n",
    "#print (\"done?\")"
   ]
  }
 ],
 "metadata": {
  "kernelspec": {
   "display_name": "Python 3",
   "language": "python",
   "name": "python3"
  },
  "language_info": {
   "codemirror_mode": {
    "name": "ipython",
    "version": 3
   },
   "file_extension": ".py",
   "mimetype": "text/x-python",
   "name": "python",
   "nbconvert_exporter": "python",
   "pygments_lexer": "ipython3",
   "version": "3.10.9"
  },
  "orig_nbformat": 4
 },
 "nbformat": 4,
 "nbformat_minor": 2
}
